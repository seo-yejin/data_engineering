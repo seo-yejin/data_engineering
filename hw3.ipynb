{
 "cells": [
  {
   "cell_type": "code",
   "execution_count": 1,
   "id": "6c34c282-ee63-4da0-af9f-12cd6e57398c",
   "metadata": {},
   "outputs": [],
   "source": [
    "import numpy as np"
   ]
  },
  {
   "cell_type": "code",
   "execution_count": 12,
   "id": "8b9b5115-6d14-4bd3-9049-db0ebb1ea409",
   "metadata": {},
   "outputs": [],
   "source": [
    "hairstyles = np.array([\"bouffant\", \"pixie\", \"dreadlocks\", \"crew\", \"bowl\", \"bob\", \"mohawk\", \"flattop\"])\n",
    "prices = np.array([30, 25, 40, 20, 20, 35, 50, 35])\n",
    "last_week = np.array([2, 3, 5, 8, 4, 4, 6, 2])"
   ]
  },
  {
   "cell_type": "code",
   "execution_count": 15,
   "id": "73b7c9dc-5bad-4c19-8ac9-5e592df3432d",
   "metadata": {},
   "outputs": [],
   "source": [
    "total_price = 0\n",
    "for price in prices:\n",
    "    total_price +=price"
   ]
  },
  {
   "cell_type": "code",
   "execution_count": 16,
   "id": "24f22d24-1f2b-4a05-a47d-0cc4f8ac2d33",
   "metadata": {},
   "outputs": [
    {
     "name": "stdout",
     "output_type": "stream",
     "text": [
      "Average price is  31.875\n"
     ]
    }
   ],
   "source": [
    "average_price = total_price/len(prices)\n",
    "\n",
    "print(\"Average price is \",average_price)"
   ]
  },
  {
   "cell_type": "code",
   "execution_count": 10,
   "id": "0e6cb710-e642-4f48-820f-344215884fa3",
   "metadata": {},
   "outputs": [
    {
     "name": "stdout",
     "output_type": "stream",
     "text": [
      "[25 20 35 15 15 30 45 30]\n"
     ]
    }
   ],
   "source": [
    "new_prices = prices -5\n",
    "\n",
    "print(new_prices)"
   ]
  },
  {
   "cell_type": "code",
   "execution_count": 17,
   "id": "a25284c8-c886-4faf-a9bd-6a68d81ad4cb",
   "metadata": {},
   "outputs": [
    {
     "name": "stdout",
     "output_type": "stream",
     "text": [
      "1085\n"
     ]
    }
   ],
   "source": [
    "total_revenue = 0\n",
    "for i in range(0,len(hairstyles)):\n",
    "    total_revenue += prices[i] * last_week[i]\n",
    "print(total_revenue)"
   ]
  },
  {
   "cell_type": "code",
   "execution_count": 19,
   "id": "3616d594-3323-44ae-861b-0ca6fc0c10c5",
   "metadata": {},
   "outputs": [
    {
     "name": "stdout",
     "output_type": "stream",
     "text": [
      "Average daily revenue is  155.0\n"
     ]
    }
   ],
   "source": [
    "average_daily_revenue = total_revenue / 7\n",
    "\n",
    "print(\"Average daily revenue is \", average_daily_revenue)"
   ]
  },
  {
   "cell_type": "code",
   "execution_count": 20,
   "id": "8c994b8c-7368-45d3-911b-a9bf767343ff",
   "metadata": {},
   "outputs": [
    {
     "name": "stdout",
     "output_type": "stream",
     "text": [
      "['bouffant' 'pixie' 'crew' 'bowl']\n"
     ]
    }
   ],
   "source": [
    "cuts_under_30 = np.array([hairstyles[i] for i in range(len(hairstyles)) if prices[i]<=30 ])\n",
    "\n",
    "print(cuts_under_30)"
   ]
  }
 ],
 "metadata": {
  "kernelspec": {
   "display_name": "Python 3 (ipykernel)",
   "language": "python",
   "name": "python3"
  },
  "language_info": {
   "codemirror_mode": {
    "name": "ipython",
    "version": 3
   },
   "file_extension": ".py",
   "mimetype": "text/x-python",
   "name": "python",
   "nbconvert_exporter": "python",
   "pygments_lexer": "ipython3",
   "version": "3.9.12"
  }
 },
 "nbformat": 4,
 "nbformat_minor": 5
}
