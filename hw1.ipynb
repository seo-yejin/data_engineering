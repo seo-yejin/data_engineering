{
 "cells": [
  {
   "cell_type": "code",
   "execution_count": 1,
   "id": "f2407bef-cd9b-4a82-a3bf-8c1006184937",
   "metadata": {},
   "outputs": [],
   "source": [
    "lovely_loveseat_description = \"Lovely Loveseat. Tufted polyester blend on wood. 32 inches high x 40 inches wide x 30 inches deep. Red or white.\""
   ]
  },
  {
   "cell_type": "code",
   "execution_count": 2,
   "id": "23d9ad12-671a-482b-ae96-fef5b01c2a55",
   "metadata": {},
   "outputs": [],
   "source": [
    "lovely_loveseat_price = 254.00"
   ]
  },
  {
   "cell_type": "code",
   "execution_count": 3,
   "id": "a8ed36a4-d08c-4f1a-b048-f6d90925e002",
   "metadata": {},
   "outputs": [],
   "source": [
    "stylish_settee_description = \"Stylish Settee. Faux leather on birch. 29.50 inches high x 54.75 inches wide x 28 inches deep. Black.\""
   ]
  },
  {
   "cell_type": "code",
   "execution_count": 4,
   "id": "4f8656da-3323-4bd7-a61f-5d2cef8065e3",
   "metadata": {},
   "outputs": [],
   "source": [
    "stylish_settee_price = 180.50"
   ]
  },
  {
   "cell_type": "code",
   "execution_count": 5,
   "id": "b66fc2a0-9117-41af-afb7-a575bb8c8e3f",
   "metadata": {},
   "outputs": [],
   "source": [
    "luxurious_lamp_description = \"Luxurious Lamp. Glass and iron. 36 inches tall. Brown with cream shade.\""
   ]
  },
  {
   "cell_type": "code",
   "execution_count": 6,
   "id": "49ecfe05-5ce6-4554-9a6c-ae19ce5a8f6a",
   "metadata": {},
   "outputs": [],
   "source": [
    "uxurious_lamp_price = 52.15"
   ]
  },
  {
   "cell_type": "code",
   "execution_count": 7,
   "id": "003d0c46-5fca-4980-86b2-a30cf95eae6d",
   "metadata": {},
   "outputs": [],
   "source": [
    "sales_tax = .088"
   ]
  },
  {
   "cell_type": "code",
   "execution_count": 8,
   "id": "fe4f4fbf-869f-4de9-8ca3-29ec1080c72f",
   "metadata": {},
   "outputs": [],
   "source": [
    "customer_one_total = 0"
   ]
  },
  {
   "cell_type": "code",
   "execution_count": 9,
   "id": "c86baac7-2a64-45ef-847e-f4a90047305f",
   "metadata": {},
   "outputs": [],
   "source": [
    "ustomer_one_itemization = \"\""
   ]
  },
  {
   "cell_type": "code",
   "execution_count": 10,
   "id": "051a66c2-46b4-40d4-bcc4-4c105f4caceb",
   "metadata": {},
   "outputs": [],
   "source": [
    "customer_one_total += lovely_loveseat_price"
   ]
  },
  {
   "cell_type": "code",
   "execution_count": 11,
   "id": "0825d21a-7298-4c1e-814a-582c70418dd6",
   "metadata": {},
   "outputs": [],
   "source": [
    "customer_one_itemization = lovely_loveseat_description"
   ]
  },
  {
   "cell_type": "code",
   "execution_count": 12,
   "id": "be8cfa1f-0a1a-4d02-a55c-bfea01b800d7",
   "metadata": {},
   "outputs": [],
   "source": [
    "customer_one_total += uxurious_lamp_price"
   ]
  },
  {
   "cell_type": "code",
   "execution_count": 14,
   "id": "7dc6e04f-9db1-4bac-9878-f2f2fb55699d",
   "metadata": {},
   "outputs": [],
   "source": [
    "customer_one_itemization += luxurious_lamp_description"
   ]
  },
  {
   "cell_type": "code",
   "execution_count": 15,
   "id": "75676ec5-51ee-452d-b363-93f6c1083fb3",
   "metadata": {},
   "outputs": [],
   "source": [
    "customer_one_tax = customer_one_total * sales_tax"
   ]
  },
  {
   "cell_type": "code",
   "execution_count": 16,
   "id": "1397918d-e6b2-414b-b1fc-98cbca2b3aab",
   "metadata": {},
   "outputs": [],
   "source": [
    "customer_one_total += customer_one_tax"
   ]
  },
  {
   "cell_type": "code",
   "execution_count": 18,
   "id": "ef3b332e-50b9-409f-8b67-edf127e55f62",
   "metadata": {},
   "outputs": [
    {
     "name": "stdout",
     "output_type": "stream",
     "text": [
      "Customer One Items: Luxurious Lamp. Glass and iron. 36 inches tall. Brown with cream shade.Luxurious Lamp. Glass and iron. 36 inches tall. Brown with cream shade.\n"
     ]
    }
   ],
   "source": [
    "print(\"Customer One Items:\",customer_one_itemization)"
   ]
  },
  {
   "cell_type": "code",
   "execution_count": 19,
   "id": "8efdb46e-13b6-4dca-b534-4e206ec6d62a",
   "metadata": {},
   "outputs": [
    {
     "name": "stdout",
     "output_type": "stream",
     "text": [
      "Customer One Total: 333.09119999999996\n"
     ]
    }
   ],
   "source": [
    "print(\"Customer One Total:\",customer_one_total)"
   ]
  }
 ],
 "metadata": {
  "kernelspec": {
   "display_name": "Python 3 (ipykernel)",
   "language": "python",
   "name": "python3"
  },
  "language_info": {
   "codemirror_mode": {
    "name": "ipython",
    "version": 3
   },
   "file_extension": ".py",
   "mimetype": "text/x-python",
   "name": "python",
   "nbconvert_exporter": "python",
   "pygments_lexer": "ipython3",
   "version": "3.9.12"
  }
 },
 "nbformat": 4,
 "nbformat_minor": 5
}
