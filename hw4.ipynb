{
 "cells": [
  {
   "cell_type": "code",
   "execution_count": 1,
   "id": "47bf3003-733d-43da-9a6a-24dcc209765d",
   "metadata": {},
   "outputs": [],
   "source": [
    "months_char = ['쌍', '쇠', '복', '돌', '팽', '육', '쌍', '개', '칠', '갑', '삼', '방']\n",
    "days_char = ['봉', '구', '욕', '포', '똥', '삼', '식', '석', '놈', '님', '년', '돌', '단', '득', '방', '질', '장', '걸', '래', '룡', '동', '순', '자', '박', '창', '언', '것', '포', '만', '단', '국']"
   ]
  },
  {
   "cell_type": "code",
   "execution_count": 10,
   "id": "272cd4c3-58ae-4093-8f08-8571d271a9f4",
   "metadata": {},
   "outputs": [
    {
     "name": "stdout",
     "output_type": "stream",
     "text": [
      "당신의 조선시대 이름은 서팽박 입니다.\n"
     ]
    }
   ],
   "source": [
    "def get_my_chosun_name(family_name,month,day):\n",
    "    return family_name + months_char[month-1] +days_char[day-1]\n",
    "\n",
    "print(\"당신의 조선시대 이름은 \" + get_my_chosun_name('서',5,24) + \" 입니다.\")"
   ]
  }
 ],
 "metadata": {
  "kernelspec": {
   "display_name": "Python 3 (ipykernel)",
   "language": "python",
   "name": "python3"
  },
  "language_info": {
   "codemirror_mode": {
    "name": "ipython",
    "version": 3
   },
   "file_extension": ".py",
   "mimetype": "text/x-python",
   "name": "python",
   "nbconvert_exporter": "python",
   "pygments_lexer": "ipython3",
   "version": "3.9.12"
  }
 },
 "nbformat": 4,
 "nbformat_minor": 5
}
